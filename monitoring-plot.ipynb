{
 "cells": [
  {
   "cell_type": "code",
   "execution_count": 4,
   "metadata": {
    "collapsed": true
   },
   "outputs": [],
   "source": [
    "import pandas as pd"
   ]
  },
  {
   "cell_type": "code",
   "execution_count": 1,
   "metadata": {
    "collapsed": true
   },
   "outputs": [],
   "source": [
    "import plotly.plotly as py"
   ]
  },
  {
   "cell_type": "code",
   "execution_count": 8,
   "metadata": {
    "collapsed": true
   },
   "outputs": [],
   "source": [
    "import plotly.graph_objs as go"
   ]
  },
  {
   "cell_type": "code",
   "execution_count": 18,
   "metadata": {
    "collapsed": false
   },
   "outputs": [
    {
     "name": "stdout",
     "output_type": "stream",
     "text": [
      "2.0.8\n"
     ]
    }
   ],
   "source": [
    "print __version__"
   ]
  },
  {
   "cell_type": "raw",
   "metadata": {},
   "source": [
    "py.dashboard_ops.get_dashboard_names()"
   ]
  },
  {
   "cell_type": "code",
   "execution_count": 10,
   "metadata": {
    "collapsed": true
   },
   "outputs": [],
   "source": [
    "from plotly import __version__\n",
    "from plotly.offline import download_plotlyjs, init_notebook_mode, plot, iplot"
   ]
  },
  {
   "cell_type": "code",
   "execution_count": 52,
   "metadata": {
    "collapsed": false
   },
   "outputs": [],
   "source": [
    "jf = pd.read_csv('siret.parSemaine.csv', sep='|')"
   ]
  },
  {
   "cell_type": "code",
   "execution_count": 53,
   "metadata": {
    "collapsed": false
   },
   "outputs": [
    {
     "data": {
      "text/html": [
       "<div>\n",
       "<table border=\"1\" class=\"dataframe\">\n",
       "  <thead>\n",
       "    <tr style=\"text-align: right;\">\n",
       "      <th></th>\n",
       "      <th>weeknum</th>\n",
       "      <th>siretKO</th>\n",
       "      <th>nbSiretUnique</th>\n",
       "      <th>siretRENS</th>\n",
       "      <th>yearmonth</th>\n",
       "      <th>taux_KO_Unique</th>\n",
       "      <th>taux_KO_Rens</th>\n",
       "    </tr>\n",
       "  </thead>\n",
       "  <tbody>\n",
       "    <tr>\n",
       "      <th>0</th>\n",
       "      <td>48</td>\n",
       "      <td>42786</td>\n",
       "      <td>38440</td>\n",
       "      <td>259021</td>\n",
       "      <td>2016-12</td>\n",
       "      <td>1.113</td>\n",
       "      <td>0.165</td>\n",
       "    </tr>\n",
       "    <tr>\n",
       "      <th>1</th>\n",
       "      <td>49</td>\n",
       "      <td>67303</td>\n",
       "      <td>56337</td>\n",
       "      <td>430155</td>\n",
       "      <td>2016-12</td>\n",
       "      <td>1.195</td>\n",
       "      <td>0.156</td>\n",
       "    </tr>\n",
       "    <tr>\n",
       "      <th>2</th>\n",
       "      <td>50</td>\n",
       "      <td>67334</td>\n",
       "      <td>60261</td>\n",
       "      <td>414260</td>\n",
       "      <td>2016-12</td>\n",
       "      <td>1.117</td>\n",
       "      <td>0.163</td>\n",
       "    </tr>\n",
       "    <tr>\n",
       "      <th>3</th>\n",
       "      <td>51</td>\n",
       "      <td>56187</td>\n",
       "      <td>49290</td>\n",
       "      <td>338891</td>\n",
       "      <td>2016-12</td>\n",
       "      <td>1.140</td>\n",
       "      <td>0.166</td>\n",
       "    </tr>\n",
       "    <tr>\n",
       "      <th>4</th>\n",
       "      <td>52</td>\n",
       "      <td>43964</td>\n",
       "      <td>40143</td>\n",
       "      <td>272570</td>\n",
       "      <td>2017-01</td>\n",
       "      <td>1.095</td>\n",
       "      <td>0.161</td>\n",
       "    </tr>\n",
       "  </tbody>\n",
       "</table>\n",
       "</div>"
      ],
      "text/plain": [
       "   weeknum  siretKO  nbSiretUnique  siretRENS yearmonth  taux_KO_Unique  \\\n",
       "0       48    42786          38440     259021   2016-12           1.113   \n",
       "1       49    67303          56337     430155   2016-12           1.195   \n",
       "2       50    67334          60261     414260   2016-12           1.117   \n",
       "3       51    56187          49290     338891   2016-12           1.140   \n",
       "4       52    43964          40143     272570   2017-01           1.095   \n",
       "\n",
       "   taux_KO_Rens  \n",
       "0         0.165  \n",
       "1         0.156  \n",
       "2         0.163  \n",
       "3         0.166  \n",
       "4         0.161  "
      ]
     },
     "execution_count": 53,
     "metadata": {},
     "output_type": "execute_result"
    }
   ],
   "source": [
    "jf.head()"
   ]
  },
  {
   "cell_type": "code",
   "execution_count": 54,
   "metadata": {
    "collapsed": false
   },
   "outputs": [],
   "source": [
    "def combineWeeknumYearmonth(row):\n",
    "    w  = row['weeknum']\n",
    "    ym = row['yearmonth']\n",
    "    return '%i [%s]' % (w-52*(w>52), ym) \n",
    "jf['wym'] = jf.apply(combineWeeknumYearmonth, axis=1)"
   ]
  },
  {
   "cell_type": "raw",
   "metadata": {},
   "source": [
    "layout = go.Layout(\n",
    "    title='Plot Title',\n",
    "    xaxis=dict(\n",
    "        title='x Axis',\n",
    "        titlefont=dict(\n",
    "            family='Courier New, monospace',\n",
    "            size=18,\n",
    "            color='#7f7f7f'\n",
    "        )\n",
    "    ),\n",
    "    yaxis=dict(\n",
    "        title='y Axis',\n",
    "        titlefont=dict(\n",
    "            family='Courier New, monospace',\n",
    "            size=18,\n",
    "            color='#7f7f7f'\n",
    "        )\n",
    "    )\n",
    ")"
   ]
  },
  {
   "cell_type": "code",
   "execution_count": 56,
   "metadata": {
    "collapsed": true
   },
   "outputs": [],
   "source": [
    "layout = {\n",
    "  \"bargap\": 0.28, \n",
    "  \"bargroupgap\": 0.12, \n",
    "  \"hovermode\": \"closest\", \n",
    "  \"margin\": {\"t\": 90}, \n",
    "  \"paper_bgcolor\": \"rgb(255, 255, 255)\", \n",
    "  \"plot_bgcolor\": \"rgb(244, 249, 255)\", \n",
    "  \"showlegend\": False, \n",
    "  \"title\": \"Nb sirets faux / nb sirets uniques\", \n",
    "  \"titlefont\": {\"size\": 26}, \n",
    "  \"xaxis\": {\n",
    "    \"autorange\": True, \n",
    "    \"range\": [-0.5, 29.5], \n",
    "    \"title\": \"Numéro semaine / mois\", \n",
    "    \"titlefont\": {\"size\": 22}, \n",
    "    \"type\": \"category\"\n",
    "  }, \n",
    "  \"yaxis\": {\n",
    "    \"autorange\": True, \n",
    "    \"range\": [-0.05, 0.205782297237], \n",
    "    \"title\": \"Nb sirets faux / nb sirets uniques\", \n",
    "    \"titlefont\": {\"size\": 25}, \n",
    "    \"type\": \"log\"\n",
    "  }\n",
    "}"
   ]
  },
  {
   "cell_type": "code",
   "execution_count": 62,
   "metadata": {
    "collapsed": false
   },
   "outputs": [
    {
     "data": {
      "text/plain": [
       "'file:///home/si067717/THT/QualiteJF-Siret/MONITORING/KOoverUnique.html'"
      ]
     },
     "execution_count": 62,
     "metadata": {},
     "output_type": "execute_result"
    }
   ],
   "source": [
    "layout['title'] = 'Nb sirets faux / nb sirets uniques'\n",
    "layout['yaxis'] ['title'] = 'Nb sirets faux / nb sirets uniques'\n",
    "plot({\n",
    "    'data': [\n",
    "        go.Bar(x=jf['wym'],\n",
    "               y=jf['taux_KO_Unique'],\n",
    "               marker=dict(\n",
    "                    color='rgb(50,150,255)',\n",
    "                    line=dict(\n",
    "                        color='rgb(8,48,107)',\n",
    "                        width=1.5,\n",
    "                    )\n",
    "                ),\n",
    "               opacity=0.8\n",
    "              )],\n",
    "    'layout': layout\n",
    "}, show_link=False, filename='KOoverUnique.html')"
   ]
  },
  {
   "cell_type": "markdown",
   "metadata": {},
   "source": [
    "## ============"
   ]
  },
  {
   "cell_type": "code",
   "execution_count": 63,
   "metadata": {
    "collapsed": false
   },
   "outputs": [
    {
     "data": {
      "text/plain": [
       "'file:///home/si067717/THT/QualiteJF-Siret/MONITORING/KOoverRenseignes.html'"
      ]
     },
     "execution_count": 63,
     "metadata": {},
     "output_type": "execute_result"
    }
   ],
   "source": [
    "layout['title'] = 'Nb sirets faux / nb sirets renseignés'\n",
    "layout['yaxis'] ['title'] = 'Nb sirets faux / nb sirets renseignés'\n",
    "plot({\n",
    "    'data': [\n",
    "        go.Bar(x=jf['wym'],\n",
    "               y=jf['taux_KO_Rens'],\n",
    "               marker=dict(\n",
    "                    color='rgb(50,150,255)',\n",
    "                    line=dict(\n",
    "                        color='rgb(8,48,107)',\n",
    "                        width=1.5,\n",
    "                    )\n",
    "                ),\n",
    "               opacity=0.8\n",
    "              )],\n",
    "    'layout': layout\n",
    "}, show_link=False, filename='KOoverRenseignes.html')"
   ]
  },
  {
   "cell_type": "code",
   "execution_count": 68,
   "metadata": {
    "collapsed": true
   },
   "outputs": [],
   "source": [
    "layout['title'] = 'Nb sirets faux / nb sirets uniques'\n",
    "layout['yaxis'] ['title'] = 'Nb sirets faux / nb sirets uniques'\n",
    "\n",
    "data1 = {\n",
    "    'data': [\n",
    "        go.Bar(x=jf['wym'],\n",
    "               y=jf['taux_KO_Unique'],\n",
    "               marker=dict(\n",
    "                    color='rgb(50,150,255)',\n",
    "                    line=dict(\n",
    "                        color='rgb(8,48,107)',\n",
    "                        width=1.5,\n",
    "                    )\n",
    "                ),\n",
    "               opacity=0.8\n",
    "              )],\n",
    "    'layout': layout\n",
    "}"
   ]
  },
  {
   "cell_type": "code",
   "execution_count": 69,
   "metadata": {
    "collapsed": true
   },
   "outputs": [],
   "source": [
    "url = py.plot(data1, filename='KOoverUnique')"
   ]
  },
  {
   "cell_type": "code",
   "execution_count": 70,
   "metadata": {
    "collapsed": true
   },
   "outputs": [],
   "source": [
    "layout['title'] = 'Nb sirets faux / nb sirets renseignés'\n",
    "layout['yaxis'] ['title'] = 'Nb sirets faux / nb sirets renseignés'\n",
    "\n",
    "data2 = {\n",
    "    'data': [\n",
    "        go.Bar(x=jf['wym'],\n",
    "               y=jf['taux_KO_Rens'],\n",
    "               marker=dict(\n",
    "                    color='rgb(50,150,255)',\n",
    "                    line=dict(\n",
    "                        color='rgb(8,48,107)',\n",
    "                        width=1.5,\n",
    "                    )\n",
    "                ),\n",
    "               opacity=0.8\n",
    "              )],\n",
    "    'layout': layout\n",
    "}"
   ]
  },
  {
   "cell_type": "code",
   "execution_count": 71,
   "metadata": {
    "collapsed": true
   },
   "outputs": [],
   "source": [
    "url = py.plot(data2, filename='KOoverRenseignes')"
   ]
  },
  {
   "cell_type": "code",
   "execution_count": null,
   "metadata": {
    "collapsed": true
   },
   "outputs": [],
   "source": []
  }
 ],
 "metadata": {
  "kernelspec": {
   "display_name": "Python [py27]",
   "language": "python",
   "name": "Python [py27]"
  },
  "language_info": {
   "codemirror_mode": {
    "name": "ipython",
    "version": 2
   },
   "file_extension": ".py",
   "mimetype": "text/x-python",
   "name": "python",
   "nbconvert_exporter": "python",
   "pygments_lexer": "ipython2",
   "version": "2.7.12"
  }
 },
 "nbformat": 4,
 "nbformat_minor": 0
}
